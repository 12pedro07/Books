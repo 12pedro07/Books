{
 "cells": [
  {
   "cell_type": "code",
   "execution_count": 1,
   "source": [
    "%matplotlib inline\n",
    "\n",
    "# Machine learning related\n",
    "from sklearn.base import BaseEstimator # Base class to create a custom estimator / classifier\n",
    "from sklearn.metrics import confusion_matrix, precision_score, recall_score\n",
    "from sklearn.datasets import fetch_openml\n",
    "from sklearn.linear_model import SGDClassifier # Stochastic Gradient Descent Classifier\n",
    "from sklearn.model_selection import cross_val_score, cross_val_predict # Cross validation\n",
    "\n",
    "# Auxiliary tools\n",
    "from pathlib import Path\n",
    "import numpy as np\n",
    "import matplotlib as mpl\n",
    "import matplotlib.pyplot as plt\n"
   ],
   "outputs": [],
   "metadata": {}
  },
  {
   "cell_type": "code",
   "execution_count": 2,
   "source": [
    "DATASET_PATH = Path(\"..\", \"Datasets\").resolve()"
   ],
   "outputs": [],
   "metadata": {}
  },
  {
   "cell_type": "markdown",
   "source": [
    "## Downloading the dataset using sklearn"
   ],
   "metadata": {}
  },
  {
   "cell_type": "code",
   "execution_count": 3,
   "source": [
    "mnist = fetch_openml('mnist_784', version=1, data_home=DATASET_PATH) # Downloading\n",
    "# mnist is a dictionary with the images, labels and many others characteristics, we can check them by printing the keys of that dictionary\n",
    "mnist.keys()"
   ],
   "outputs": [
    {
     "output_type": "execute_result",
     "data": {
      "text/plain": [
       "dict_keys(['data', 'target', 'frame', 'categories', 'feature_names', 'target_names', 'DESCR', 'details', 'url'])"
      ]
     },
     "metadata": {},
     "execution_count": 3
    }
   ],
   "metadata": {}
  },
  {
   "cell_type": "markdown",
   "source": [
    "- DESCR: Describes the dataset;\n",
    "- data: Array containing one row per instance and one columnn per feature;\n",
    "- target: Array containing the labels\n",
    "\n",
    "\n",
    "\n",
    "# UNDERSTANDING THE DATA\n",
    "---"
   ],
   "metadata": {}
  },
  {
   "cell_type": "code",
   "execution_count": 4,
   "source": [
    "X, y = mnist[\"data\"], mnist[\"target\"]\n",
    "y = y.astype(np.uint8) # Casting all items in y from string to int\n",
    "print(\"X shape: {} / y shape: {}\".format(X.shape, y.shape))\n",
    "\n",
    "# Any digit is an array with all the pixels data, so we need to reshape it to an image (matrix) in this case with shape 28x28\n",
    "some_digit = X[0].reshape(28,28)\n",
    "\n",
    "plt.imshow(some_digit, cmap=\"binary\")\n",
    "plt.title(\"Label: {}\".format(y[0]))\n",
    "plt.axis(\"off\")\n",
    "plt.show()"
   ],
   "outputs": [
    {
     "output_type": "stream",
     "name": "stdout",
     "text": [
      "X shape: (70000, 784) / y shape: (70000,)\n"
     ]
    },
    {
     "output_type": "display_data",
     "data": {
      "image/png": "[encoded data removed]",
      "text/plain": [
       "<Figure size 432x288 with 1 Axes>"
      ]
     },
     "metadata": {
      "needs_background": "light"
     }
    }
   ],
   "metadata": {}
  },
  {
   "cell_type": "markdown",
   "source": [
    "# TRAIN/TEST SPLIT\n",
    "\n",
    "---\n",
    "\n",
    "### mnist is already split, 0~60.000 is a shuffled training set and 60.000~70.000 is the test set"
   ],
   "metadata": {}
  },
  {
   "cell_type": "code",
   "execution_count": 5,
   "source": [
    "X_train, X_test, y_train, y_test = X[:60000], X[60000:], y[:60000], y[60000:]"
   ],
   "outputs": [],
   "metadata": {}
  },
  {
   "cell_type": "markdown",
   "source": [
    "# TRAINING THE MODEL\n",
    "\n",
    "---\n",
    "\n",
    "### The first model will only classify images as '5' or 'not 5'."
   ],
   "metadata": {}
  },
  {
   "cell_type": "code",
   "execution_count": 6,
   "source": [
    "y_train_5 = (y_train == 5) # Generate a mask to distinct fives (true) from not fives (false)\n",
    "y_test_5 = (y_test == 5)\n",
    "\n",
    "sgd_clf = SGDClassifier(random_state=42) # Instantiate using a seed, to make the result reproducible\n",
    "sgd_clf.fit(X_train, y_train_5) # Train"
   ],
   "outputs": [
    {
     "output_type": "execute_result",
     "data": {
      "text/plain": [
       "SGDClassifier(random_state=42)"
      ]
     },
     "metadata": {},
     "execution_count": 6
    }
   ],
   "metadata": {}
  },
  {
   "cell_type": "code",
   "execution_count": 7,
   "source": [
    "# Using the model to predict if the previous shown image is a five\n",
    "sgd_clf.predict([X[0]])"
   ],
   "outputs": [
    {
     "output_type": "execute_result",
     "data": {
      "text/plain": [
       "array([ True])"
      ]
     },
     "metadata": {},
     "execution_count": 7
    }
   ],
   "metadata": {}
  },
  {
   "cell_type": "markdown",
   "source": [
    "# EVALUATING THE MODEL\n",
    "\n",
    "---\n",
    "\n",
    "### Measuring accuracy using cross-validation"
   ],
   "metadata": {}
  },
  {
   "cell_type": "code",
   "execution_count": 8,
   "source": [
    "cross_val_score(\n",
    "    sgd_clf, # Model instance\n",
    "    X_train, # Training data\n",
    "    y_train_5, # Training labels\n",
    "    cv=3, # Number of folds\n",
    "    scoring='accuracy' # Evaluation metric\n",
    ")"
   ],
   "outputs": [
    {
     "output_type": "execute_result",
     "data": {
      "text/plain": [
       "array([0.95035, 0.96035, 0.9604 ])"
      ]
     },
     "metadata": {},
     "execution_count": 8
    }
   ],
   "metadata": {}
  },
  {
   "cell_type": "markdown",
   "source": [
    "### Model has over 95% accuracy consistently, but that doesn't mean much since only about 10% of the images on the training set were fives and 90% were not fives... So a classifier that just guesses not 5 every time would be correct 90% of the time (as shown bellow)"
   ],
   "metadata": {}
  },
  {
   "cell_type": "code",
   "execution_count": 9,
   "source": [
    "# Creating the model that only guesses 'not 5'\n",
    "class Never5Classifier(BaseEstimator):\n",
    "    def fit(self, X, y=None):\n",
    "        return self\n",
    "    def predict(self, Xs):\n",
    "        return np.zeros((len(Xs), 1), dtype=bool)\n",
    "\n",
    "# Evaluating\n",
    "never_5_clf = Never5Classifier()\n",
    "cross_val_score(never_5_clf, X_train, y_train_5, cv=3, scoring='accuracy')"
   ],
   "outputs": [
    {
     "output_type": "execute_result",
     "data": {
      "text/plain": [
       "array([0.91125, 0.90855, 0.90915])"
      ]
     },
     "metadata": {},
     "execution_count": 9
    }
   ],
   "metadata": {}
  },
  {
   "cell_type": "markdown",
   "source": [
    "### 90% accuracy, as expected...\n",
    "\n",
    "### That is why accuracy may be a bad measurement for classifiers, especially using skewed datasets\n",
    "\n",
    "## Let's try a ___confusion matrix___"
   ],
   "metadata": {}
  },
  {
   "cell_type": "code",
   "execution_count": 10,
   "source": [
    "# Retraining and getting the result for each prediction on the test fold\n",
    "y_train_pred = cross_val_predict(sgd_clf, X_train, y_train_5, cv=3)\n",
    "y_train_pred"
   ],
   "outputs": [
    {
     "output_type": "execute_result",
     "data": {
      "text/plain": [
       "array([ True, False, False, ...,  True, False, False])"
      ]
     },
     "metadata": {},
     "execution_count": 10
    }
   ],
   "metadata": {}
  },
  {
   "cell_type": "code",
   "execution_count": 11,
   "source": [
    "# Creating the confusion matrix\n",
    "cm = confusion_matrix(y_train_5, y_train_pred)\n",
    "cm"
   ],
   "outputs": [
    {
     "output_type": "execute_result",
     "data": {
      "text/plain": [
       "array([[53892,   687],\n",
       "       [ 1891,  3530]])"
      ]
     },
     "metadata": {},
     "execution_count": 11
    }
   ],
   "metadata": {}
  },
  {
   "cell_type": "markdown",
   "source": [
    "| [v] Dataset \\\\ Predicted [>] | not 5 | is 5 |\n",
    "| ---- | ----- | ---- |\n",
    "| not 5 | True Negatives | False Positives |\n",
    "| is 5 | False Negatives | True Positives |\n",
    "                                <---------- Recall ^\n",
    "                                                   |\n",
    "                                                   |\n",
    "                                                   precision\n",
    "\n",
    "- ## __Precision of 'A':__ Of all 'A' predictions, how many were correct\n",
    "- ## __Recall of 'A':__ Of all 'A' on the dataset, how many were predicted\n",
    "\n",
    "## Other metrics:"
   ],
   "metadata": {}
  },
  {
   "cell_type": "code",
   "execution_count": 12,
   "source": [
    "# === PRECISION === #\n",
    "# p = TP / (TP + FP)\n",
    "def cm2precision(cm):\n",
    "    # cm = confusion matrix\n",
    "    return cm[1][1] / (cm[1][1] + cm[0][1])\n",
    "print(\"precision (skl) = {}\\nprecision (manual) = {}\".format(\n",
    "    precision_score(y_train_5, y_train_pred),\n",
    "    cm2precision(cm)\n",
    "))\n",
    "# === RECALL / TPR / SENSITIVITY === #\n",
    "# TPR : True Positive Rate\n",
    "# r = TP / (TP + FN)"
   ],
   "outputs": [
    {
     "output_type": "stream",
     "name": "stdout",
     "text": [
      "precision (skl) = 0.8370879772350012\n",
      "precision (manual) = 0.8370879772350012\n"
     ]
    }
   ],
   "metadata": {}
  }
 ],
 "metadata": {
  "orig_nbformat": 4,
  "language_info": {
   "name": "python",
   "version": "3.8.5",
   "mimetype": "text/x-python",
   "codemirror_mode": {
    "name": "ipython",
    "version": 3
   },
   "pygments_lexer": "ipython3",
   "nbconvert_exporter": "python",
   "file_extension": ".py"
  },
  "kernelspec": {
   "name": "python3",
   "display_name": "Python 3.8.5 64-bit ('base': conda)"
  },
  "interpreter": {
   "hash": "ec52e35cbadde383e76887bf156a3d142d1ed012c2f29b766319110f28479c8f"
  }
 },
 "nbformat": 4,
 "nbformat_minor": 2
}